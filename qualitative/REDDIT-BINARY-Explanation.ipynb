{
 "cells": [
  {
   "cell_type": "markdown",
   "metadata": {},
   "source": [
    "# Summary\n",
    "\n",
    "This notebook will demnostrate one of the qualitative analyses made for CoGE on `REDDIT-BINARY` dataset. We will train a GIN model on the dataset and use our contrastive approach to explain the classification."
   ]
  },
  {
   "cell_type": "markdown",
   "metadata": {},
   "source": [
    "# Training a GIN Model\n",
    "The model and training code is ported from [DGL GIN Example](https://github.com/dmlc/dgl/tree/master/examples/pytorch/gin)"
   ]
  },
  {
   "cell_type": "code",
   "execution_count": 1,
   "metadata": {
    "ExecuteTime": {
     "end_time": "2020-09-24T07:58:40.875576Z",
     "start_time": "2020-09-24T07:58:30.045997Z"
    }
   },
   "outputs": [
    {
     "name": "stderr",
     "output_type": "stream",
     "text": [
      "Using backend: pytorch\n"
     ]
    }
   ],
   "source": [
    "import sys\n",
    "import numpy as np\n",
    "from tqdm.notebook import tqdm\n",
    "\n",
    "import torch\n",
    "import torch.nn as nn\n",
    "import torch.optim as optim\n",
    "\n",
    "from dgl.data.gindt import GINDataset\n",
    "from dataloader import GraphDataLoader, collate\n",
    "from gin import GIN\n",
    "from geomloss import SamplesLoss\n",
    "from matplotlib import pyplot as plt\n",
    "import random\n",
    "import networkx as nx"
   ]
  },
  {
   "cell_type": "code",
   "execution_count": 2,
   "metadata": {
    "ExecuteTime": {
     "end_time": "2020-09-24T07:58:40.896405Z",
     "start_time": "2020-09-24T07:58:40.879544Z"
    }
   },
   "outputs": [],
   "source": [
    "class DummyArgs:\n",
    "    pass\n",
    "\n",
    "args = DummyArgs()\n",
    "args.batch_size = 32\n",
    "args.dataset = 'REDDITBINARY'\n",
    "args.degree_as_tag = False\n",
    "args.device = 0\n",
    "args.disable_cuda = False\n",
    "args.epochs = 350\n",
    "args.filename = ''\n",
    "args.final_dropout = 0.5\n",
    "args.fold_idx=0\n",
    "args.graph_pooling_type='sum'\n",
    "args.hidden_dim=64\n",
    "args.learn_eps=False\n",
    "args.lr=0.01\n",
    "args.neighbor_pooling_type='sum'\n",
    "args.net='gin'\n",
    "args.num_layers=5\n",
    "args.num_mlp_layers=2\n",
    "args.seed=0"
   ]
  },
  {
   "cell_type": "code",
   "execution_count": 3,
   "metadata": {
    "ExecuteTime": {
     "end_time": "2020-09-24T07:58:40.926151Z",
     "start_time": "2020-09-24T07:58:40.899549Z"
    }
   },
   "outputs": [],
   "source": [
    "def train(args, net, trainloader, optimizer, criterion, epoch):\n",
    "    net.train()\n",
    "\n",
    "    running_loss = 0\n",
    "    total_iters = len(trainloader)\n",
    "\n",
    "    for graphs, labels in trainloader:\n",
    "        # batch graphs will be shipped to device in forward part of model\n",
    "        labels = labels.to(args.device)\n",
    "        feat = graphs.ndata.pop('attr').to(args.device)\n",
    "        graphs = graphs.to(args.device)\n",
    "        outputs = net(graphs, feat)\n",
    "\n",
    "        loss = criterion(outputs, labels)\n",
    "        running_loss += loss.item()\n",
    "\n",
    "        # backprop\n",
    "        optimizer.zero_grad()\n",
    "        loss.backward()\n",
    "        optimizer.step()\n",
    "\n",
    "    # the final batch will be aligned\n",
    "    running_loss = running_loss / total_iters\n",
    "\n",
    "    return running_loss\n",
    "\n",
    "\n",
    "def eval_net(args, net, dataloader, criterion):\n",
    "    net.eval()\n",
    "\n",
    "    total = 0\n",
    "    total_loss = 0\n",
    "    total_correct = 0\n",
    "\n",
    "    for data in dataloader:\n",
    "        graphs, labels = data\n",
    "        feat = graphs.ndata.pop('attr').to(args.device)\n",
    "        graphs = graphs.to(args.device)\n",
    "        labels = labels.to(args.device)\n",
    "        total += len(labels)\n",
    "        outputs = net(graphs, feat)\n",
    "        _, predicted = torch.max(outputs.data, 1)\n",
    "\n",
    "        total_correct += (predicted == labels.data).sum().item()\n",
    "        loss = criterion(outputs, labels)\n",
    "        # crossentropy(reduce=True) for default\n",
    "        total_loss += loss.item() * len(labels)\n",
    "\n",
    "    loss, acc = 1.0*total_loss / total, 1.0*total_correct / total\n",
    "\n",
    "    net.train()\n",
    "\n",
    "    return loss, acc\n"
   ]
  },
  {
   "cell_type": "code",
   "execution_count": 4,
   "metadata": {
    "ExecuteTime": {
     "end_time": "2020-09-24T07:58:40.940085Z",
     "start_time": "2020-09-24T07:58:40.929982Z"
    }
   },
   "outputs": [],
   "source": [
    "torch.manual_seed(seed=0)\n",
    "np.random.seed(seed=0)\n",
    "\n",
    "is_cuda = not args.disable_cuda and torch.cuda.is_available()\n",
    "\n",
    "if is_cuda:\n",
    "    args.device = torch.device(\"cuda:\" + str(args.device))\n",
    "    torch.cuda.manual_seed_all(seed=0)\n",
    "else:\n",
    "    args.device = torch.device(\"cpu\")"
   ]
  },
  {
   "cell_type": "markdown",
   "metadata": {},
   "source": [
    "## Load the dataset, this will take ~10 minutes for the first time"
   ]
  },
  {
   "cell_type": "code",
   "execution_count": 5,
   "metadata": {
    "ExecuteTime": {
     "end_time": "2020-09-24T07:58:50.723419Z",
     "start_time": "2020-09-24T07:58:50.216314Z"
    }
   },
   "outputs": [
    {
     "name": "stdout",
     "output_type": "stream",
     "text": [
      "Done loading data from cached files.\n"
     ]
    }
   ],
   "source": [
    "dataset = GINDataset(args.dataset, not args.learn_eps, degree_as_nlabel=True, verbose=True)"
   ]
  },
  {
   "cell_type": "code",
   "execution_count": 6,
   "metadata": {
    "ExecuteTime": {
     "end_time": "2020-09-24T07:59:06.376027Z",
     "start_time": "2020-09-24T07:59:06.340885Z"
    }
   },
   "outputs": [
    {
     "name": "stdout",
     "output_type": "stream",
     "text": [
      "train_set : test_set = %d : %d 1800 200\n"
     ]
    }
   ],
   "source": [
    "trainloader, validloader = GraphDataLoader(\n",
    "    dataset, batch_size=args.batch_size, device=args.device,\n",
    "    collate_fn=collate, seed=args.seed, shuffle=True,\n",
    "    split_name='fold10', fold_idx=args.fold_idx).train_valid_loader()"
   ]
  },
  {
   "cell_type": "code",
   "execution_count": 7,
   "metadata": {},
   "outputs": [],
   "source": [
    "model = GIN(\n",
    "    args.num_layers, args.num_mlp_layers,\n",
    "    dataset.dim_nfeats, args.hidden_dim, dataset.gclasses,\n",
    "    args.final_dropout, args.learn_eps,\n",
    "    args.graph_pooling_type, args.neighbor_pooling_type).to(args.device)\n",
    "\n",
    "criterion = nn.CrossEntropyLoss()"
   ]
  },
  {
   "cell_type": "markdown",
   "metadata": {
    "ExecuteTime": {
     "end_time": "2020-09-23T16:40:27.651189Z",
     "start_time": "2020-09-23T16:40:27.623232Z"
    }
   },
   "source": [
    "## Train the GIN model"
   ]
  },
  {
   "cell_type": "code",
   "execution_count": null,
   "metadata": {
    "ExecuteTime": {
     "start_time": "2020-09-24T07:59:45.204Z"
    }
   },
   "outputs": [],
   "source": [
    "optimizer = optim.Adam(model.parameters(), lr=args.lr)\n",
    "scheduler = optim.lr_scheduler.StepLR(optimizer, step_size=50, gamma=0.5)\n",
    "\n",
    "tbar = tqdm(range(args.epochs), unit=\"epoch\")\n",
    "\n",
    "for epoch in tbar:\n",
    "    scheduler.step()\n",
    "\n",
    "    train(args, model, trainloader, optimizer, criterion, epoch)\n",
    "\n",
    "    train_loss, train_acc = eval_net(\n",
    "        args, model, trainloader, criterion)\n",
    "    print(\n",
    "        'train set - average loss: {:.4f}, accuracy: {:.0f}%'\n",
    "        .format(train_loss, 100. * train_acc))\n",
    "\n",
    "    valid_loss, valid_acc = eval_net(\n",
    "        args, model, validloader, criterion)\n",
    "    print('valid set - average loss: {:.4f}, accuracy: {:.0f}%'.format(valid_loss, 100. * valid_acc))\n",
    "\n",
    "    if not args.filename == \"\":\n",
    "        with open(args.filename, 'a') as f:\n",
    "            f.write('%s %s %s %s' % (\n",
    "                args.dataset,\n",
    "                args.learn_eps,\n",
    "                args.neighbor_pooling_type,\n",
    "                args.graph_pooling_type\n",
    "            ))\n",
    "            f.write(\"\\n\")\n",
    "            f.write(\"%f %f %f %f\" % (\n",
    "                train_loss,\n",
    "                train_acc,\n",
    "                valid_loss,\n",
    "                valid_acc\n",
    "            ))\n",
    "            f.write(\"\\n\")\n",
    "\n",
    "    print(\n",
    "        \"Learning eps with learn_eps={}: {}\".format(\n",
    "            args.learn_eps, [layer.eps.data.item() for layer in model.ginlayers]))"
   ]
  },
  {
   "cell_type": "code",
   "execution_count": 10,
   "metadata": {},
   "outputs": [],
   "source": [
    "model.eval()\n",
    "torch.save(model.state_dict(),args.dataset + '.model')"
   ]
  },
  {
   "cell_type": "markdown",
   "metadata": {},
   "source": [
    "## Or load a trained model\n",
    "A trained model exists in the git repo"
   ]
  },
  {
   "cell_type": "code",
   "execution_count": 10,
   "metadata": {},
   "outputs": [
    {
     "name": "stdout",
     "output_type": "stream",
     "text": [
      "model loaded\n"
     ]
    }
   ],
   "source": [
    "model.load_state_dict(torch.load(args.dataset + '.model',map_location=args.device))\n",
    "model.eval()\n",
    "print('model loaded')"
   ]
  },
  {
   "cell_type": "code",
   "execution_count": 11,
   "metadata": {
    "ExecuteTime": {
     "end_time": "2020-09-23T15:47:02.734950Z",
     "start_time": "2020-09-23T15:47:02.683572Z"
    }
   },
   "outputs": [
    {
     "name": "stdout",
     "output_type": "stream",
     "text": [
      "validation set - average loss: 0.2620, accuracy: 92%\n"
     ]
    }
   ],
   "source": [
    "valid_loss, valid_acc = eval_net(args, model, validloader, criterion)\n",
    "print('validation set - average loss: {:.4f}, accuracy: {:.0f}%'.format(valid_loss, 100. * valid_acc))"
   ]
  },
  {
   "cell_type": "markdown",
   "metadata": {},
   "source": [
    "# Explaining the model\n",
    "## Save the model prediction for all samples"
   ]
  },
  {
   "cell_type": "code",
   "execution_count": 12,
   "metadata": {
    "ExecuteTime": {
     "end_time": "2020-09-23T15:48:37.894896Z",
     "start_time": "2020-09-23T15:48:33.703096Z"
    }
   },
   "outputs": [
    {
     "data": {
      "application/vnd.jupyter.widget-view+json": {
       "model_id": "3d1492dc9f4042059f8cf03f83dd2a36",
       "version_major": 2,
       "version_minor": 0
      },
      "text/plain": [
       "HBox(children=(FloatProgress(value=0.0, max=2000.0), HTML(value='')))"
      ]
     },
     "metadata": {},
     "output_type": "display_data"
    },
    {
     "name": "stdout",
     "output_type": "stream",
     "text": [
      "\n"
     ]
    }
   ],
   "source": [
    "pred_labels = []\n",
    "for g,_ in tqdm(dataset):\n",
    "    pred_labels.append(model(g.to(args.device),torch.tensor(g.ndata['attr'].numpy(),dtype=torch.float32).to(args.device)).argmax().item())"
   ]
  },
  {
   "cell_type": "code",
   "execution_count": 13,
   "metadata": {
    "ExecuteTime": {
     "end_time": "2020-09-23T16:12:17.491779Z",
     "start_time": "2020-09-23T16:12:17.483814Z"
    }
   },
   "outputs": [],
   "source": [
    "import torch.nn.functional as F\n",
    "def node_embeddings(model,g, from_layer=0, to_layer=None, concat=True):\n",
    "    \"\"\"\n",
    "    This function runs the graph through the convolution layer but not the final pooling layer in order to\n",
    "    extract node embeddings\n",
    "    \"\"\"\n",
    "    h = torch.tensor(g.ndata['attr'].numpy(),dtype=torch.float32).to(args.device)\n",
    "    hidden_rep = [h.cpu().detach().numpy()]\n",
    "\n",
    "    for i in range(model.num_layers - 1):\n",
    "        h = model.ginlayers[i](g.to(args.device), h)\n",
    "        h = model.batch_norms[i](h)\n",
    "        h = F.relu(h)\n",
    "        hidden_rep.append(h.cpu().detach().numpy())\n",
    "    embeddings = hidden_rep[from_layer:to_layer]\n",
    "    if concat:\n",
    "        embeddings = np.concatenate(embeddings,axis=1)\n",
    "    return embeddings"
   ]
  },
  {
   "cell_type": "markdown",
   "metadata": {},
   "source": [
    "## Compute node embeddings for all samples since they will be used multiple times in the future"
   ]
  },
  {
   "cell_type": "code",
   "execution_count": 14,
   "metadata": {
    "ExecuteTime": {
     "end_time": "2020-09-23T16:05:40.699549Z",
     "start_time": "2020-09-23T16:05:39.789746Z"
    }
   },
   "outputs": [
    {
     "data": {
      "application/vnd.jupyter.widget-view+json": {
       "model_id": "43a8f8f6b19b46db965d13743f9efab5",
       "version_major": 2,
       "version_minor": 0
      },
      "text/plain": [
       "HBox(children=(FloatProgress(value=0.0, max=2000.0), HTML(value='')))"
      ]
     },
     "metadata": {},
     "output_type": "display_data"
    },
    {
     "name": "stdout",
     "output_type": "stream",
     "text": [
      "\n"
     ]
    }
   ],
   "source": [
    "cache_node_embeddings = {}\n",
    "for i in tqdm(range(len(dataset))):\n",
    "    cache_node_embeddings[i] = node_embeddings(model, dataset[i][0])"
   ]
  },
  {
   "cell_type": "code",
   "execution_count": 15,
   "metadata": {
    "ExecuteTime": {
     "end_time": "2020-09-23T16:09:35.352695Z",
     "start_time": "2020-09-23T16:09:35.345453Z"
    }
   },
   "outputs": [],
   "source": [
    "distance = SamplesLoss(\"sinkhorn\", p=1, blur=.01)\n",
    "try:\n",
    "    dist_cache\n",
    "except NameError as e:\n",
    "    dist_cache = dict()\n",
    "\n",
    "def graph_distance(g1_num, g2_num):\n",
    "    \"\"\"\n",
    "    Memoized distance function for two graphs based on their ids\n",
    "    \"\"\"\n",
    "    k = (min(g1_num, g2_num), max(g1_num, g2_num))\n",
    "    if k in dist_cache:\n",
    "        return dist_cache[k]\n",
    "    g1_embs = cache_node_embeddings[g1_num]\n",
    "    g2_embs = cache_node_embeddings[g2_num]\n",
    "    try:\n",
    "        dist_cache[k] = distance(torch.Tensor(g1_embs),torch.Tensor(g2_embs)).item()\n",
    "    except:\n",
    "        dist_cache[k] = 0\n",
    "    return dist_cache[k]\n"
   ]
  },
  {
   "cell_type": "code",
   "execution_count": 16,
   "metadata": {
    "ExecuteTime": {
     "end_time": "2020-09-23T16:09:43.947079Z",
     "start_time": "2020-09-23T16:09:43.930957Z"
    }
   },
   "outputs": [],
   "source": [
    "def closest(cur_index, dist, size=1, neg_label = None, subsample = 1.):\n",
    "    \"\"\"\n",
    "    Returns the ids of the most similar graphs with the same label and different labels as pair of arrays\n",
    "    \"\"\"\n",
    "    cur_label = dataset[cur_index][1]\n",
    "    # if pred_labels[cur_index]!=cur_label:\n",
    "    #     print('Misclassified!')\n",
    "    #     return None\n",
    "    pos_dists = []\n",
    "    neg_dists = []\n",
    "    for i in tqdm(range(len(dataset))):\n",
    "        if random.random() > subsample:\n",
    "            continue\n",
    "        if i==cur_index:\n",
    "            continue\n",
    "        if pred_labels[i] != dataset[i][1]: # ignore those not predicted correct\n",
    "            continue\n",
    "        d = dist(cur_index,i)\n",
    "        if pred_labels[i] != cur_label:\n",
    "            if neg_label is None or pred_labels[i] == neg_label:\n",
    "                neg_dists.append((d,i))\n",
    "        else:\n",
    "            pos_dists.append((d,i))\n",
    "    pos_dists = sorted(pos_dists)\n",
    "    neg_dists = sorted(neg_dists)\n",
    "    pos_indices = [i for d,i in pos_dists]\n",
    "    neg_indices = [i for d,i in neg_dists]\n",
    "    \n",
    "    return pos_indices[:size], neg_indices[:size]"
   ]
  },
  {
   "cell_type": "markdown",
   "metadata": {},
   "source": [
    "## Change the graph id to see explanations for different graphs"
   ]
  },
  {
   "cell_type": "code",
   "execution_count": 49,
   "metadata": {
    "ExecuteTime": {
     "end_time": "2020-09-23T16:26:42.766189Z",
     "start_time": "2020-09-23T16:26:42.760334Z"
    }
   },
   "outputs": [],
   "source": [
    "sample_graph_id = 1330\n",
    "\n",
    "sample_graph = dataset[sample_graph_id][0]\n",
    "\n",
    "sample_graph_embs = torch.Tensor(node_embeddings(model, sample_graph))"
   ]
  },
  {
   "cell_type": "code",
   "execution_count": 52,
   "metadata": {
    "ExecuteTime": {
     "end_time": "2020-09-23T16:26:52.557329Z",
     "start_time": "2020-09-23T16:26:49.686117Z"
    }
   },
   "outputs": [
    {
     "data": {
      "application/vnd.jupyter.widget-view+json": {
       "model_id": "ad33114912a544a6bb4b39c18f5ac0f4",
       "version_major": 2,
       "version_minor": 0
      },
      "text/plain": [
       "HBox(children=(FloatProgress(value=0.0, max=2000.0), HTML(value='')))"
      ]
     },
     "metadata": {},
     "output_type": "display_data"
    },
    {
     "name": "stdout",
     "output_type": "stream",
     "text": [
      "\n"
     ]
    }
   ],
   "source": [
    "positive_ids, negative_ids = closest(sample_graph_id, graph_distance,size=10,subsample=0.1)"
   ]
  },
  {
   "cell_type": "code",
   "execution_count": 53,
   "metadata": {
    "ExecuteTime": {
     "end_time": "2020-09-23T16:26:54.011990Z",
     "start_time": "2020-09-23T16:26:54.003968Z"
    }
   },
   "outputs": [],
   "source": [
    "positive_samples_tensors = [torch.Tensor(cache_node_embeddings[i]) for i in positive_ids]\n",
    "negative_samples_tensors = [torch.Tensor(cache_node_embeddings[i]) for i in negative_ids]"
   ]
  },
  {
   "cell_type": "code",
   "execution_count": 54,
   "metadata": {
    "ExecuteTime": {
     "end_time": "2020-09-23T16:26:54.623981Z",
     "start_time": "2020-09-23T16:26:54.617218Z"
    }
   },
   "outputs": [],
   "source": [
    "node_mask = torch.nn.Parameter(torch.zeros((sample_graph.number_of_nodes())))"
   ]
  },
  {
   "cell_type": "markdown",
   "metadata": {},
   "source": [
    "## Learning the mask for minimizing the loss function"
   ]
  },
  {
   "cell_type": "code",
   "execution_count": 55,
   "metadata": {
    "ExecuteTime": {
     "end_time": "2020-09-23T16:27:10.020651Z",
     "start_time": "2020-09-23T16:26:55.090148Z"
    }
   },
   "outputs": [
    {
     "data": {
      "application/vnd.jupyter.widget-view+json": {
       "model_id": "d8d6c92c44e3460cb95d8ec7a84df383",
       "version_major": 2,
       "version_minor": 0
      },
      "text/plain": [
       "HBox(children=(FloatProgress(value=0.0, max=50.0), HTML(value='')))"
      ]
     },
     "metadata": {},
     "output_type": "display_data"
    },
    {
     "name": "stdout",
     "output_type": "stream",
     "text": [
      "0 0.7591584920883179\n",
      "\n"
     ]
    }
   ],
   "source": [
    "learning_rate = 1e-2\n",
    "distance = SamplesLoss(\"sinkhorn\", p=1, blur=.01)\n",
    "optimizer = torch.optim.Adam([node_mask], lr=learning_rate)\n",
    "\n",
    "def mydist(mask, embs):\n",
    "    return distance(mask.softmax(0),sample_graph_embs,\n",
    "                    distance.generate_weights(embs),embs)\n",
    "\n",
    "tq = tqdm(range(50))\n",
    "history = []\n",
    "for t in tq:\n",
    "    loss_pos = torch.mean(torch.stack([mydist(node_mask, x) for x in positive_samples_tensors]))\n",
    "    loss_neg = torch.mean(torch.stack([mydist(node_mask, x) for x in negative_samples_tensors]))\n",
    "    loss_self = mydist(node_mask, sample_graph_embs)\n",
    "\n",
    "    loss = loss_neg - loss_pos + loss_self\n",
    "    loss_str = 'loss_neg - loss_pos + loss_self'\n",
    "    \n",
    "    # You can change the loss function by uncommenting the following sections\n",
    "#     loss = loss_neg + loss_self\n",
    "#     loss_str = 'loss_neg + loss_self'\n",
    "\n",
    "#     loss = loss_neg - loss_pos\n",
    "#     loss_str = 'loss_neg - loss_pos'\n",
    "\n",
    "#     loss = loss_neg\n",
    "#     loss_str = 'loss_neg'\n",
    "\n",
    "    hist_item = dict(loss_neg=loss_neg.item(),loss_self=loss_self.item(), loss_pos=loss_pos.item(),loss=loss.item())\n",
    "    history.append(hist_item)\n",
    "    if t % 100 == 0:\n",
    "        print(t, loss.item())\n",
    "    tq.set_postfix(**hist_item)\n",
    "    optimizer.zero_grad()\n",
    "    loss.backward()\n",
    "    optimizer.step()"
   ]
  },
  {
   "cell_type": "code",
   "execution_count": 56,
   "metadata": {
    "ExecuteTime": {
     "end_time": "2020-09-23T16:27:24.006628Z",
     "start_time": "2020-09-23T16:27:23.789013Z"
    }
   },
   "outputs": [
    {
     "data": {
      "image/png": "[encoded data removed]",
      "text/plain": [
       "<Figure size 432x288 with 1 Axes>"
      ]
     },
     "metadata": {
      "needs_background": "light"
     },
     "output_type": "display_data"
    }
   ],
   "source": [
    "xaxis = list(range(len(history)))\n",
    "for k in ['loss','loss_neg','loss_pos','loss_self']:\n",
    "    plt.plot(xaxis, [x[k] for x in history],label=k)\n",
    "plt.legend()\n",
    "plt.show()"
   ]
  },
  {
   "cell_type": "code",
   "execution_count": 57,
   "metadata": {
    "ExecuteTime": {
     "end_time": "2020-09-23T16:27:26.176354Z",
     "start_time": "2020-09-23T16:27:26.163730Z"
    }
   },
   "outputs": [],
   "source": [
    "node_color = list(1 - node_mask.softmax(0).detach().numpy().ravel())"
   ]
  },
  {
   "cell_type": "code",
   "execution_count": 58,
   "metadata": {
    "ExecuteTime": {
     "end_time": "2020-09-23T16:27:27.993810Z",
     "start_time": "2020-09-23T16:27:27.410938Z"
    }
   },
   "outputs": [
    {
     "data": {
      "image/png": "[encoded data removed]",
      "text/plain": [
       "<Figure size 432x288 with 1 Axes>"
      ]
     },
     "metadata": {},
     "output_type": "display_data"
    }
   ],
   "source": [
    "plt.title('graph num %d with node importance as the mask softmax from optimization\\n' \\\n",
    "'loss = %s' % (sample_graph_id, loss_str))\n",
    "g = sample_graph.to_networkx().to_undirected()\n",
    "g_pos = nx.kamada_kawai_layout(g)\n",
    "nx.draw(g,pos=g_pos, with_labels=True,node_color=node_color,labels=dict(g.degree()))"
   ]
  }
 ],
 "metadata": {
  "kernelspec": {
   "display_name": "Python 3",
   "language": "python",
   "name": "python3"
  },
  "language_info": {
   "codemirror_mode": {
    "name": "ipython",
    "version": 3
   },
   "file_extension": ".py",
   "mimetype": "text/x-python",
   "name": "python",
   "nbconvert_exporter": "python",
   "pygments_lexer": "ipython3",
   "version": "3.8.3"
  },
  "toc": {
   "base_numbering": 1,
   "nav_menu": {},
   "number_sections": true,
   "sideBar": true,
   "skip_h1_title": false,
   "title_cell": "Table of Contents",
   "title_sidebar": "Contents",
   "toc_cell": false,
   "toc_position": {},
   "toc_section_display": true,
   "toc_window_display": false
  },
  "toc-autonumbering": false
 },
 "nbformat": 4,
 "nbformat_minor": 4
}
